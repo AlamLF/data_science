{
  "nbformat": 4,
  "nbformat_minor": 0,
  "metadata": {
    "colab": {
      "provenance": [],
      "authorship_tag": "ABX9TyNr3X/vEd5QnNjIsKTGCq8N",
      "include_colab_link": true
    },
    "kernelspec": {
      "name": "python3",
      "display_name": "Python 3"
    },
    "language_info": {
      "name": "python"
    }
  },
  "cells": [
    {
      "cell_type": "markdown",
      "metadata": {
        "id": "view-in-github",
        "colab_type": "text"
      },
      "source": [
        "<a href=\"https://colab.research.google.com/github/AlamLF/data_science/blob/master/Untitled0.ipynb\" target=\"_parent\"><img src=\"https://colab.research.google.com/assets/colab-badge.svg\" alt=\"Open In Colab\"/></a>"
      ]
    },
    {
      "cell_type": "code",
      "execution_count": null,
      "metadata": {
        "id": "G8CfAcKcJWxc"
      },
      "outputs": [],
      "source": [
        "!pip install python-crfsuite #do it before nltk otherwise the program will not run\n",
        "#crf complex random field  more time consuming to train\n",
        "\n",
        "#create different training sets fro different sizes .\n",
        "#Quite easy models with few examples are pretty bad but with more examples they improve a lot\n",
        "#small details maybe there is a model that is almost the same but they have different accuracy and time but train and evaluating. Take a look at the time. Some models that are very esxpensive to train bt cheap to apply and the other way around.\n",
        "#hidden markov models III use the one for below. We can try other values for the alpha ffor markov models"
      ]
    }
  ]
}